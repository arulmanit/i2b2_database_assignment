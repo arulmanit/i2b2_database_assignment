{
 "cells": [
  {
   "cell_type": "markdown",
   "metadata": {},
   "source": [
    "# Assignment: ETL/Clinical Data Warehouse "
   ]
  },
  {
   "cell_type": "markdown",
   "metadata": {},
   "source": [
    "Submission to Prof. Vianney Jouhet"
   ]
  },
  {
   "cell_type": "markdown",
   "metadata": {},
   "source": [
    "Submission by Arulmani Thiyagarajan"
   ]
  },
  {
   "cell_type": "markdown",
   "metadata": {},
   "source": [
    "## Highlights: \n",
    "* Steps followed:understanded in the nutshell\n",
    "    1. ETL extract\n",
    "    2. ETL transform\n",
    "    3. ETL transform\n",
    "    4. ETL load\n",
    "* i2b2 is open source software mainly focuses on the translational research groups, has ability to integrate the clinical, biological and genomic data.\n",
    "* Important highlight is that the model is in denormalized form\n",
    "* 5 main tables are considered patient, venue, provider, observation, concept and modifier"
   ]
  },
  {
   "cell_type": "code",
   "execution_count": null,
   "metadata": {},
   "outputs": [],
   "source": [
    "# Step:1 - Importing required libraries\n",
    "\n",
    "import csv # this library for importing dataset\n",
    "import psycopg2 # this library is for PostGregSQL adapter for python language"
   ]
  },
  {
   "cell_type": "code",
   "execution_count": null,
   "metadata": {},
   "outputs": [],
   "source": [
    "# Step:2 - Creating the class patient with columns patient number, gender and birth date along with print option\n",
    "class Patient:\n",
    "    def __init__ (self,patient_num,gender,birthdate):\n",
    "        self.patient_num = patient_num\n",
    "        self.gender = gender\n",
    "        self.birth_date = birthdate\n",
    "\n",
    "    def printPatient(self):\n",
    "        print(\" *******************\")\n",
    "        print(\"Patient\")\n",
    "        print(self.patient_num)\n",
    "        print(self.gender)\n",
    "        print(self.birth_date)\n",
    "        print(\" *******************\")"
   ]
  },
  {
   "cell_type": "code",
   "execution_count": null,
   "metadata": {},
   "outputs": [],
   "source": [
    "# Creating the class visit with columns patient number, encounter number, start date and end date along with print option\n",
    "\n",
    "class Visit:\n",
    "    def __init__ (self, encounter_num, patient_num, start_date, end_date):\n",
    "        self.encounter_num = encounter_num\n",
    "        self.patient_num = patient_num\n",
    "        self.start_date = start_date\n",
    "        self.end_date = end_date\n",
    "        \n",
    "    def printVisit(self):\n",
    "        print(\" *******************\")\n",
    "        print(\"Visit\")\n",
    "        print(self.encounter_num)\n",
    "        print(self.patient_num)\n",
    "        print(self.start_date)\n",
    "        print(self.end_date)\n",
    "        print(\" *******************\")"
   ]
  },
  {
   "cell_type": "code",
   "execution_count": null,
   "metadata": {},
   "outputs": [],
   "source": [
    "# Creating Observation class with encounter number, patient number, concept_cd, start date and end date\n",
    "class observation:\n",
    "    def __init__ (self, encounter_num, patient_num, concept_cd, start_date, end_date):\n",
    "        self.encounter_num = encounter_num\n",
    "        self.patient_num = patient_num\n",
    "        self.concept_cd = concept_cd\n",
    "        self.provider_id = 1 # keeping the provider id as one for the all the patient\n",
    "        self.start_date = start_date\n",
    "        self.end_date = end_date\n",
    "       \n",
    "\n",
    "    def printobservation(self):\n",
    "        print(\" *******************\")\n",
    "        print(\"Observation Fact\")\n",
    "        print(self.encounter_num)\n",
    "        print(self.patient_num)\n",
    "        print(self.concept_cd)\n",
    "        print(self.provider_id)\n",
    "        print(self.start_date)\n",
    "        print(self.end_date)\n",
    "        print(\" *******************\")"
   ]
  },
  {
   "cell_type": "code",
   "execution_count": null,
   "metadata": {},
   "outputs": [],
   "source": [
    "# Step:3 - Defining the execute function for connecting with PostgreSQL- i2b2 database through the local host \n",
    "def execute(command):\n",
    "    conn = None\n",
    "    try:\n",
    "        # connecting to the PostgreSQL server\n",
    "        conn = psycopg2.connect(host=\"localhost\", database=\"i2b2\", user=\"i2b2\", password=\"i2b2\")\n",
    "        cur = conn.cursor()\n",
    "        # creating table one by one\n",
    "        cur.execute(command)\n",
    "        # close communication with the PostgreSQL database server\n",
    "        cur.close()\n",
    "        # committing the changes that we made\n",
    "        conn.commit()\n",
    "    except (Exception, psycopg2.DatabaseError) as error: # if not making an connection, making it to print error statement\n",
    "        print(error)\n",
    "    finally:\n",
    "        if conn is not None: # if connection is achieved, it tells to stop the open connection once the commited changes made\n",
    "            conn.close()"
   ]
  },
  {
   "cell_type": "code",
   "execution_count": null,
   "metadata": {},
   "outputs": [],
   "source": [
    "# Step:4 - Removing the dummy data from the patient dimension, visit dimension and observationfact variable in the database\n",
    "\n",
    "stmt = '''\n",
    "delete from i2b2demodata.patient_dimension;\n",
    "delete from i2b2demodata.visit_dimension;\n",
    "delete from i2b2demodata.observation_fact;\n",
    "'''\n",
    "\n",
    "execute(stmt) # using the execute function that we created in the previous step, the only dummy values data are deleted from the database keeping the column names (structure) intact"
   ]
  },
  {
   "cell_type": "code",
   "execution_count": null,
   "metadata": {},
   "outputs": [],
   "source": [
    "# Step:5 - Defining the loadPatient function to insert the given data into the columns that we need to get loaded in the database\n",
    "def loadPatient(patient):\n",
    "    command = \"\"\"\n",
    "        INSERT INTO i2b2demodata.patient_dimension\n",
    "            (patient_num, sex_cd, birth_date)\n",
    "            VALUES(\n",
    "                    {patient_num},\n",
    "                    {gender},\n",
    "                    DATE '{birth_date}'\n",
    "            )\n",
    "    \"\"\".format(patient_num = patient.patient_num, gender = patient.gender, birth_date = patient.birth_date)\n",
    "    execute(command)"
   ]
  },
  {
   "cell_type": "code",
   "execution_count": null,
   "metadata": {},
   "outputs": [],
   "source": [
    "# Defining the loadvisit function to insert the given data into the columns that we need to get loaded in the database\n",
    "def loadVisit(visit): \n",
    "    command = \"\"\"\n",
    "         INSERT INTO i2b2demodata.visit_dimension\n",
    "            (encounter_num, patient_num, start_date, end_date)\n",
    "            VALUES(\n",
    "                    {encounter_num},\n",
    "                    {patient_num},\n",
    "                    DATE '{start_date}',\n",
    "                    DATE '{end_date}'\n",
    "            )\n",
    "    \"\"\".format(encounter_num = visit.encounter_num, patient_num = visit.patient_num,  \n",
    "               start_date = visit.start_date, end_date = visit.end_date)\n",
    "    execute(command)"
   ]
  },
  {
   "cell_type": "code",
   "execution_count": null,
   "metadata": {},
   "outputs": [],
   "source": [
    "# Defining the loadobservation function to insert the given data into the columns that we need to get loaded in the database\n",
    "def loadobservation(observation):\n",
    "    command = \"\"\"\n",
    "        INSERT INTO i2b2demodata.observation_fact\n",
    "            (encounter_num, patient_num, concept_cd, provider_id, start_date, end_date)\n",
    "            VALUES(\n",
    "                    {encounterNum},\n",
    "                    {patientNum},\n",
    "                    TEXT '{conceptCd}',\n",
    "                    {providerId},\n",
    "                    DATE '{start_date}',\n",
    "                    DATE '{end_date}'                   \n",
    "            )\n",
    "    \"\"\".format(encounterNum = observation.encounter_num, patientNum = observation.patient_num, \n",
    "               conceptCd = observation.concept_cd, providerId = observation.provider_id, \n",
    "               start_date = observation.start_date, end_date = observation.end_date)\n",
    "    execute(command)"
   ]
  },
  {
   "cell_type": "code",
   "execution_count": null,
   "metadata": {},
   "outputs": [],
   "source": [
    "# Step:6 - Defining the read file function with adjustment or formatting as per our dataset\n",
    "\n",
    "def readFile(file):\n",
    "    loaded = []\n",
    "    with open(file) as csvFile: \n",
    "        reader = csv.reader(csvFile, delimiter = '|') # reading the file specifying the values are delimited with '|' symbol and csv file format(executing through csv library created in first step)\n",
    "        l = 0\n",
    "        for row in reader:\n",
    "            if l == 0:\n",
    "                print(f'columns ==>  {\", \".join(row)}')\n",
    "            else:\n",
    "                if row[0] not in loaded:\n",
    "                    pat = Patient(row[0],row[1],row[2])\n",
    "                    loaded.append(row[0])\n",
    "                    pat.printPatient()\n",
    "                    loadPatient(pat)\n",
    "            \n",
    "              \n",
    "            l += 1\n",
    "            print(l)"
   ]
  },
  {
   "cell_type": "code",
   "execution_count": null,
   "metadata": {},
   "outputs": [],
   "source": [
    "# Step:7 - Loading our dataset into the readFile function for getting loaded into the database\n",
    "file = \"MPDHS-ETL/data/PMSI.txt\"\n",
    "readFile(file)"
   ]
  },
  {
   "cell_type": "code",
   "execution_count": null,
   "metadata": {},
   "outputs": [],
   "source": [
    "# defining the read file for visit dimension\n",
    "def readFile(file):\n",
    "    loaded = []\n",
    "    with open(file) as csvFile:\n",
    "        reader = csv.reader(csvFile, delimiter = '|')\n",
    "        l = 0\n",
    "        for row in reader:\n",
    "            if l == 0:\n",
    "                print(f'columns ==>  {\", \".join(row)}')\n",
    "            else:\n",
    "                if row[11] not in loaded:\n",
    "                    pat = Visit(row[11], row[0], row[5], row[6])\n",
    "                    loaded.append(row[11])\n",
    "                    pat.printVisit()\n",
    "                    loadVisit(pat)\n",
    "              \n",
    "            l += 1\n",
    "            print(l)"
   ]
  },
  {
   "cell_type": "code",
   "execution_count": null,
   "metadata": {},
   "outputs": [],
   "source": [
    "file = \"MPDHS-ETL/data/PMSI.txt\"\n",
    "readFile(file)"
   ]
  },
  {
   "cell_type": "code",
   "execution_count": null,
   "metadata": {},
   "outputs": [],
   "source": [
    "# Defining function readfile for the Observation fact\n",
    "\n",
    "def readFile(file):\n",
    "    loaded = []\n",
    "    with open(file) as csvFile:\n",
    "        reader = csv.reader(csvFile, delimiter = '|')\n",
    "        l = 0\n",
    "        for row in reader:\n",
    "            if l == 0:\n",
    "                print(f'columns ==>  {\", \".join(row)}')\n",
    "            else:\n",
    "                \n",
    "                    DP = observation(row[11], row[0], row[9], row[7], row[8])\n",
    "                    DR = observation(row[11], row[0], row[10], row[7], row[8])\n",
    "                    DAS = observation(row[11], row[0], row[12], row[7], row[8])\n",
    "                \n",
    "                    DP.printobservation()\n",
    "                    DR.printobservation()\n",
    "                    DAS.printobservation()\n",
    "                      \n",
    "                    loadobservation(DP)\n",
    "                    loadobservation(DR)\n",
    "                    loadobservation(DAS)\n",
    "                      \n",
    "                           \n",
    "              \n",
    "            l += 1\n",
    "            print(l)"
   ]
  },
  {
   "cell_type": "code",
   "execution_count": null,
   "metadata": {},
   "outputs": [],
   "source": [
    "file = \"MPDHS-ETL/data/PMSI.txt\"\n",
    "readFile(file)\n",
    "# In the output executed for the observation fact, it says duplicate key value violated unique constraint \"observation_fact_pk\". I do not understand this violation."
   ]
  },
  {
   "cell_type": "code",
   "execution_count": null,
   "metadata": {},
   "outputs": [],
   "source": []
  }
 ],
 "metadata": {
  "kernelspec": {
   "display_name": "Python 3",
   "language": "python",
   "name": "python3"
  },
  "language_info": {
   "codemirror_mode": {
    "name": "ipython",
    "version": 3
   },
   "file_extension": ".py",
   "mimetype": "text/x-python",
   "name": "python",
   "nbconvert_exporter": "python",
   "pygments_lexer": "ipython3",
   "version": "3.7.3"
  }
 },
 "nbformat": 4,
 "nbformat_minor": 2
}
