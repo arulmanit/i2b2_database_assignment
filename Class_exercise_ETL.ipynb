{
 "cells": [
  {
   "cell_type": "code",
   "execution_count": 16,
   "metadata": {},
   "outputs": [
    {
     "name": "stdout",
     "output_type": "stream",
     "text": [
      "Requirement already satisfied: psycopg2 in /home/user-02/anaconda3/lib/python3.7/site-packages (2.8.4)\n",
      "Note: you may need to restart the kernel to use updated packages.\n"
     ]
    }
   ],
   "source": [
    "pip install psycopg2"
   ]
  },
  {
   "cell_type": "markdown",
   "metadata": {},
   "source": [
    "Importing the library in to the kernel"
   ]
  },
  {
   "cell_type": "code",
   "execution_count": 11,
   "metadata": {},
   "outputs": [],
   "source": [
    "import psycopg2"
   ]
  },
  {
   "cell_type": "markdown",
   "metadata": {},
   "source": [
    "Creating the function "
   ]
  },
  {
   "cell_type": "code",
   "execution_count": 17,
   "metadata": {},
   "outputs": [],
   "source": [
    "def connect():\n",
    "    \"\"\" Connect to the PostgreSQL database server \"\"\"\n",
    "    conn = None\n",
    "    try:\n",
    "        # read connection parameters\n",
    "\n",
    "        # connect to the PostgreSQL server\n",
    "        print('Connecting to the PostgreSQL database...')\n",
    "        conn = psycopg2.connect(host=\"localhost\", database=\"i2b2\", user=\"i2b2\", password=\"i2b2\")\n",
    "\n",
    "        # create a cursor\n",
    "        cur = conn.cursor()\n",
    "\n",
    "   # execute a statement\n",
    "        print('PostgreSQL database version:')\n",
    "        cur.execute('SELECT version()')\n",
    "\n",
    "        # display the PostgreSQL database server version\n",
    "        db_version = cur.fetchone()\n",
    "        print(db_version)\n",
    "\n",
    "       # close the communication with the PostgreSQL\n",
    "        cur.close()\n",
    "    except (Exception, psycopg2.DatabaseError) as error:\n",
    "        print(error)\n",
    "    finally:\n",
    "        if conn is not None:\n",
    "            conn.close()\n",
    "            print('Database connection closed.')"
   ]
  },
  {
   "cell_type": "code",
   "execution_count": 18,
   "metadata": {},
   "outputs": [
    {
     "name": "stdout",
     "output_type": "stream",
     "text": [
      "Connecting to the PostgreSQL database...\n",
      "PostgreSQL database version:\n",
      "('PostgreSQL 12.0 (Debian 12.0-1.pgdg100+1) on x86_64-pc-linux-gnu, compiled by gcc (Debian 8.3.0-6) 8.3.0, 64-bit',)\n",
      "Database connection closed.\n"
     ]
    }
   ],
   "source": [
    "connect()"
   ]
  },
  {
   "cell_type": "code",
   "execution_count": 32,
   "metadata": {},
   "outputs": [],
   "source": [
    "def selectQuery(sql):\n",
    "    \"\"\" Connect to the PostgreSQL database server \"\"\"\n",
    "    conn = None\n",
    "    try:\n",
    "        # read connection parameters\n",
    "\n",
    "        # connect to the PostgreSQL server\n",
    "        print('Connecting to the PostgreSQL database...')\n",
    "        conn = psycopg2.connect(host=\"localhost\", database=\"i2b2\", user=\"i2b2\", password=\"i2b2\")\n",
    "\n",
    "        # create a cursor\n",
    "        cur = conn.cursor()\n",
    "        cur.execute(sql)\n",
    "\n",
    "        # display the PostgreSQL database server version\n",
    "        row = cur.fetchone()\n",
    "        while row is not None:\n",
    "            print(row)\n",
    "            row = cur.fetchone()\n",
    "\n",
    "       # close the communication with the PostgreSQL\n",
    "        cur.close()\n",
    "    except (Exception, psycopg2.DatabaseError) as error:\n",
    "        print(error)\n",
    "    finally:\n",
    "        if conn is not None:\n",
    "            conn.close()\n",
    "            print('Database connection closed.')"
   ]
  },
  {
   "cell_type": "code",
   "execution_count": 33,
   "metadata": {},
   "outputs": [],
   "source": [
    " sql = \"SELECT patient_num from i2b2demodata.patient_dimension limit 10\""
   ]
  },
  {
   "cell_type": "code",
   "execution_count": 34,
   "metadata": {},
   "outputs": [
    {
     "name": "stdout",
     "output_type": "stream",
     "text": [
      "SELECT patient_num from i2b2demodata.patient_dimension limit 10\n"
     ]
    }
   ],
   "source": [
    "print(sql)"
   ]
  },
  {
   "cell_type": "code",
   "execution_count": 35,
   "metadata": {},
   "outputs": [
    {
     "name": "stdout",
     "output_type": "stream",
     "text": [
      "Connecting to the PostgreSQL database...\n",
      "(1000000001,)\n",
      "(1000000002,)\n",
      "(1000000003,)\n",
      "(1000000004,)\n",
      "(1000000005,)\n",
      "(1000000006,)\n",
      "(1000000007,)\n",
      "(1000000008,)\n",
      "(1000000009,)\n",
      "(1000000010,)\n",
      "Database connection closed.\n"
     ]
    }
   ],
   "source": [
    "selectQuery(sql)"
   ]
  },
  {
   "cell_type": "code",
   "execution_count": 37,
   "metadata": {},
   "outputs": [],
   "source": [
    "def execute(command):\n",
    "    conn = None\n",
    "    try:\n",
    "        # connect to the PostgreSQL server\n",
    "        conn = psycopg2.connect(host=\"localhost\", database=\"i2b2\", user=\"i2b2\", password=\"i2b2\")\n",
    "        cur = conn.cursor()\n",
    "        # create table one by one\n",
    "        cur.execute(command)\n",
    "        # close communication with the PostgreSQL database server\n",
    "        cur.close()\n",
    "        # commit the changes\n",
    "        conn.commit()\n",
    "    except (Exception, psycopg2.DatabaseError) as error:\n",
    "        print(error)\n",
    "    finally:\n",
    "        if conn is not None:\n",
    "            conn.close()"
   ]
  },
  {
   "cell_type": "code",
   "execution_count": 39,
   "metadata": {},
   "outputs": [],
   "source": [
    "command = \"CREATE TABLE i2b2metadata.mphds(c_hlevel character varying(700))\""
   ]
  },
  {
   "cell_type": "code",
   "execution_count": 41,
   "metadata": {},
   "outputs": [
    {
     "name": "stdout",
     "output_type": "stream",
     "text": [
      "relation \"mphds\" already exists\n",
      "\n"
     ]
    }
   ],
   "source": [
    "execute(command)"
   ]
  },
  {
   "cell_type": "code",
   "execution_count": 50,
   "metadata": {},
   "outputs": [],
   "source": [
    "creationStatement = ''' \n",
    "\n",
    "  DROP TABLE i2b2metadata.mphds;\n",
    "  \n",
    "  \n",
    "  CREATE TABLE i2b2metadata.mphds\n",
    "  (\n",
    "      c_hlevel integer NOT NULL,\n",
    "      c_fullname character varying(700) COLLATE pg_catalog.\"default\" NOT NULL,\n",
    "      c_name character varying(2000) COLLATE pg_catalog.\"default\" NOT NULL,\n",
    "      c_synonym_cd character(1) COLLATE pg_catalog.\"default\" NOT NULL,\n",
    "      c_visualattributes character(3) COLLATE pg_catalog.\"default\" NOT NULL,\n",
    "      c_totalnum integer,\n",
    "      c_basecode character varying(50) COLLATE pg_catalog.\"default\",\n",
    "      c_metadataxml text COLLATE pg_catalog.\"default\",\n",
    "      c_facttablecolumn character varying(50) COLLATE pg_catalog.\"default\" NOT NULL,\n",
    "      c_tablename character varying(50) COLLATE pg_catalog.\"default\" NOT NULL,\n",
    "      c_columnname character varying(50) COLLATE pg_catalog.\"default\" NOT NULL,\n",
    "      c_columndatatype character varying(50) COLLATE pg_catalog.\"default\" NOT NULL,\n",
    "      c_operator character varying(10) COLLATE pg_catalog.\"default\" NOT NULL,\n",
    "      c_dimcode character varying(700) COLLATE pg_catalog.\"default\" NOT NULL,\n",
    "      c_comment text COLLATE pg_catalog.\"default\",\n",
    "      c_tooltip character varying(900) COLLATE pg_catalog.\"default\",\n",
    "      m_applied_path character varying(700) COLLATE pg_catalog.\"default\" NOT NULL,\n",
    "      update_date timestamp without time zone NOT NULL,\n",
    "      download_date timestamp without time zone,\n",
    "      import_date timestamp without time zone,\n",
    "      sourcesystem_cd character varying(50) COLLATE pg_catalog.\"default\",\n",
    "      valuetype_cd character varying(50) COLLATE pg_catalog.\"default\",\n",
    "      m_exclusion_cd character varying(25) COLLATE pg_catalog.\"default\",\n",
    "      c_path character varying(700) COLLATE pg_catalog.\"default\",\n",
    "      c_symbol character varying(50) COLLATE pg_catalog.\"default\",\n",
    "      plain_code character varying(25) COLLATE pg_catalog.\"default\"\n",
    "  )\n",
    "  WITH (\n",
    "      OIDS = FALSE\n",
    "  )\n",
    "  TABLESPACE pg_default;\n",
    "\n",
    "  ALTER TABLE i2b2metadata.mphds\n",
    "      OWNER to i2b2metadata;\n",
    "\n",
    "  -- Index: meta_appl_path_mphds_idx\n",
    "\n",
    "  DROP INDEX i2b2metadata.meta_appl_path_mphds_idx;\n",
    "\n",
    "  CREATE INDEX meta_appl_path_mphds_idx\n",
    "      ON i2b2metadata.mphds USING btree\n",
    "      (m_applied_path COLLATE pg_catalog.\"default\")\n",
    "      TABLESPACE pg_default;\n",
    "\n",
    "  -- Index: meta_exclusion_mphds_idx\n",
    "\n",
    "  DROP INDEX i2b2metadata.meta_exclusion_mphds_idx;\n",
    "\n",
    "  CREATE INDEX meta_exclusion_mphds_idx\n",
    "      ON i2b2metadata.mphds USING btree\n",
    "      (m_exclusion_cd COLLATE pg_catalog.\"default\")\n",
    "      TABLESPACE pg_default;\n",
    "\n",
    "  -- Index: meta_fullname_idx_mphds\n",
    "\n",
    "  DROP INDEX i2b2metadata.meta_fullname_idx_mphds;\n",
    "\n",
    "  CREATE INDEX meta_fullname_idx_mphds\n",
    "      ON i2b2metadata.mphds USING btree\n",
    "      (c_fullname COLLATE pg_catalog.\"default\")\n",
    "      TABLESPACE pg_default;\n",
    "\n",
    "  -- Index: meta_hlevel_mphds_idx\n",
    "\n",
    "  DROP INDEX i2b2metadata.meta_hlevel_mphds_idx;\n",
    "\n",
    "  CREATE INDEX meta_hlevel_mphds_idx\n",
    "      ON i2b2metadata.mphds USING btree\n",
    "      (c_hlevel)\n",
    "      TABLESPACE pg_default;\n",
    "\n",
    "  -- Index: meta_synonym_mphds_idx\n",
    "\n",
    "  DROP INDEX i2b2metadata.meta_synonym_mphds_idx;\n",
    "\n",
    "  CREATE INDEX meta_synonym_mphds_idx\n",
    "      ON i2b2metadata.mphds USING btree\n",
    "      (c_synonym_cd COLLATE pg_catalog.\"default\")\n",
    "      TABLESPACE pg_default;\n",
    "'''"
   ]
  },
  {
   "cell_type": "code",
   "execution_count": 52,
   "metadata": {},
   "outputs": [
    {
     "name": "stdout",
     "output_type": "stream",
     "text": [
      "index \"meta_appl_path_mphds_idx\" does not exist\n",
      "\n"
     ]
    }
   ],
   "source": [
    "execute(creationStatement)"
   ]
  },
  {
   "cell_type": "code",
   "execution_count": 58,
   "metadata": {},
   "outputs": [],
   "source": [
    "Insertstatement = '''\n",
    "\n",
    "DELETE FROM i2b2metadata.mphds;\n",
    "\n",
    "INSERT INTO i2b2metadata.mphds(\n",
    "    \tc_hlevel, c_fullname, c_name, c_synonym_cd, c_visualattributes, c_totalnum, c_basecode, c_metadataxml, c_facttablecolumn, c_tablename, c_columnname, c_columndatatype, c_operator, c_dimcode, c_comment, c_tooltip, m_applied_path, update_date, download_date, import_date, sourcesystem_cd, valuetype_cd, m_exclusion_cd, c_path, c_symbol, plain_code)\n",
    "    \tVALUES (0,'\\\\mphds\\\\','MPHDS', 'N', 'FA', null, null, null, 'CONCEPT_CD', 'CONCEPT_DIMENSION', 'CONCEPT_PATH', 'T', 'LIKE', '\\\\mphds\\\\', null,null,'@', DATE '01JAN01', null, null, null, null, null,null,null,null),\n",
    "          \t\t(1,'\\\\mphds\\\\test\\\\','test', 'N', 'LA', null, 'TEST:TEST', null, 'CONCEPT_CD', 'CONCEPT_DIMENSION', 'CONCEPT_PATH', 'T', 'LIKE', '\\\\mphds\\\\test\\\\', null,null,'@', DATE '01JAN01', null, null, null, null, null,null,null,null);\n",
    "'''"
   ]
  },
  {
   "cell_type": "code",
   "execution_count": 59,
   "metadata": {},
   "outputs": [],
   "source": [
    "execute(Insertstatement)"
   ]
  },
  {
   "cell_type": "code",
   "execution_count": 61,
   "metadata": {},
   "outputs": [],
   "source": [
    "stmt = '''\n",
    "DELETE FROM i2b2metadata.table_access where c_table_cd = 'mphds';\n",
    "INSERT INTO i2b2metadata.table_access(\n",
    "\tc_table_cd, c_table_name, c_protected_access, c_ontology_protection, c_hlevel, c_fullname, c_name, c_synonym_cd, c_visualattributes, c_totalnum, c_basecode, c_metadataxml, c_facttablecolumn, c_dimtablename, c_columnname, c_columndatatype, c_operator, c_dimcode, c_comment, c_tooltip, c_entry_date, c_change_date, c_status_cd, valuetype_cd)\n",
    "\tVALUES ('mphds', 'mphds', 'N', 'N', 0, '\\\\mphds\\\\', 'MPHDS', 'N', 'FA', null, null, null, 'CONCEPT_CD', 'CONCEPT_DIMENSION', 'CONCEPT_PATH', 'T', 'LIKE', '\\\\mphds\\\\', null, null, null, null, null, null);\n",
    "\n",
    "'''"
   ]
  },
  {
   "cell_type": "code",
   "execution_count": 63,
   "metadata": {},
   "outputs": [],
   "source": [
    "execute(stmt)"
   ]
  },
  {
   "cell_type": "code",
   "execution_count": null,
   "metadata": {},
   "outputs": [],
   "source": []
  }
 ],
 "metadata": {
  "kernelspec": {
   "display_name": "Python 3",
   "language": "python",
   "name": "python3"
  },
  "language_info": {
   "codemirror_mode": {
    "name": "ipython",
    "version": 3
   },
   "file_extension": ".py",
   "mimetype": "text/x-python",
   "name": "python",
   "nbconvert_exporter": "python",
   "pygments_lexer": "ipython3",
   "version": "3.7.3"
  }
 },
 "nbformat": 4,
 "nbformat_minor": 2
}
